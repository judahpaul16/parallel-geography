{
 "cells": [
  {
   "cell_type": "code",
   "execution_count": 103,
   "metadata": {},
   "outputs": [
    {
     "name": "stdout",
     "output_type": "stream",
     "text": [
      "  station_id   city_name      country       state iso2 iso3   latitude  \\\n",
      "0      41515    Asadabad  Afghanistan       Kunar   AF  AFG  34.866000   \n",
      "1      38954    Fayzabad  Afghanistan  Badakhshan   AF  AFG  37.129761   \n",
      "2      41560   Jalalabad  Afghanistan   Nangarhar   AF  AFG  34.441527   \n",
      "3      38947      Kunduz  Afghanistan      Kunduz   AF  AFG  36.727951   \n",
      "4      38987  Qala i Naw  Afghanistan     Badghis   AF  AFG  34.983000   \n",
      "\n",
      "   longitude  \n",
      "0  71.150005  \n",
      "1  70.579247  \n",
      "2  70.436103  \n",
      "3  68.872530  \n",
      "4  63.133300  \n"
     ]
    }
   ],
   "source": [
    "import pandas as pd\n",
    "from concurrent.futures import ThreadPoolExecutor, ProcessPoolExecutor\n",
    "from time import perf_counter\n",
    "import math\n",
    "import nest_asyncio\n",
    "nest_asyncio.apply()\n",
    "\n",
    "df = pd.read_csv('datasets/cities.csv')\n",
    "print(df.head())"
   ]
  },
  {
   "cell_type": "code",
   "execution_count": 104,
   "metadata": {},
   "outputs": [],
   "source": [
    "#  Haversine formula for calculating distance between two points on a sphere\n",
    "def haversine(coord1, coord2):\n",
    "    R = 6371  # Earth radius in km\n",
    "\n",
    "    lat1, lon1 = coord1\n",
    "    lat2, lon2 = coord2\n",
    "\n",
    "    dlat = math.radians(lat2 - lat1)\n",
    "    dlon = math.radians(lon2 - lon1)\n",
    "\n",
    "    a = math.sin(dlat / 2) ** 2 + math.cos(math.radians(lat1)) * math.cos(math.radians(lat2)) * math.sin(dlon / 2) ** 2\n",
    "    c = 2 * math.atan2(math.sqrt(a), math.sqrt(1 - a))\n",
    "\n",
    "    return R * c"
   ]
  },
  {
   "cell_type": "code",
   "execution_count": 105,
   "metadata": {},
   "outputs": [
    {
     "name": "stdout",
     "output_type": "stream",
     "text": [
      "The closest city to (40.7128, -74.006) is Trenton at 83.25 km away\n",
      "Execution time with 4 threads: 0.00495 s\n"
     ]
    }
   ],
   "source": [
    "import threading\n",
    "\n",
    "def worker(coord, cities_chunk, results, index):\n",
    "    for city in cities_chunk:\n",
    "        distance = haversine(coord, (city['latitude'], city['longitude']))\n",
    "        results[index].append((city['city_name'], distance))\n",
    "\n",
    "def manual_threading_parallelism(coord, cities, num_threads):\n",
    "    threads = []\n",
    "    results = [[] for _ in range(num_threads)]\n",
    "    chunk_size = len(cities) // num_threads\n",
    "\n",
    "    for i in range(num_threads):\n",
    "        start = i * chunk_size\n",
    "        end = None if i == num_threads - 1 else start + chunk_size\n",
    "        cities_chunk = cities[start:end]\n",
    "        thread = threading.Thread(target=worker, args=(coord, cities_chunk, results, i))\n",
    "        threads.append(thread)\n",
    "        thread.start()\n",
    "\n",
    "    for thread in threads:\n",
    "        thread.join()\n",
    "\n",
    "    distances = [item for sublist in results for item in sublist]\n",
    "\n",
    "    # find the closest city parrallel, don't use min\n",
    "    closest_city = distances[0]\n",
    "    for city in distances[1:]:\n",
    "        if city[1] < closest_city[1]:\n",
    "            closest_city = city\n",
    "    print(f'The closest city to {coord} is {closest_city[0]} at {closest_city[1]:.2f} km away')\n",
    "    return \n",
    "\n",
    "# Usage\n",
    "num_threads = 4\n",
    "cities = df.to_dict('records')  # Convert DataFrame to list of dicts\n",
    "\n",
    "# Measure execution time\n",
    "start_time = perf_counter()\n",
    "distances = manual_threading_parallelism((40.7128, -74.0060), cities, num_threads)\n",
    "end_time = perf_counter()\n",
    "execution_time_threading = end_time - start_time\n",
    "print(f'Execution time with {num_threads} threads: {execution_time_threading:.5f} s')"
   ]
  },
  {
   "cell_type": "code",
   "execution_count": 106,
   "metadata": {},
   "outputs": [
    {
     "name": "stdout",
     "output_type": "stream",
     "text": [
      "The closest city to (40.7128, -74.006) is Trenton at 83.25 km away\n",
      "Execution time with queue-based threading and 4 threads: 0.01032 s\n"
     ]
    }
   ],
   "source": [
    "from queue import Queue\n",
    "import queue\n",
    "\n",
    "def queue_worker(coord, work_queue, result_queue):\n",
    "    while not work_queue.empty():\n",
    "        try:\n",
    "            city = work_queue.get_nowait()\n",
    "        except queue.Empty:\n",
    "            break\n",
    "        distance = haversine(coord, (city['latitude'], city['longitude']))\n",
    "        result_queue.put((city['city_name'], distance))\n",
    "        work_queue.task_done()\n",
    "\n",
    "def queue_based_threading_parallelism(coord, cities, num_threads):\n",
    "    work_queue = Queue()\n",
    "    result_queue = Queue()\n",
    "\n",
    "    # Enqueue all cities\n",
    "    for city in cities:\n",
    "        work_queue.put(city)\n",
    "\n",
    "    threads = [threading.Thread(target=queue_worker, args=(coord, work_queue, result_queue)) for _ in range(num_threads)]\n",
    "\n",
    "    for thread in threads:\n",
    "        thread.start()\n",
    "    for thread in threads:\n",
    "        thread.join()\n",
    "\n",
    "    results = []\n",
    "    while not result_queue.empty():\n",
    "        results.append(result_queue.get())\n",
    "\n",
    "    distances = results\n",
    "\n",
    "    # find the closest city parrallel, don't use min\n",
    "    closest_city = distances[0]\n",
    "    for city in distances[1:]:\n",
    "        if city[1] < closest_city[1]:\n",
    "            closest_city = city\n",
    "    print(f'The closest city to {coord} is {closest_city[0]} at {closest_city[1]:.2f} km away')\n",
    "    return \n",
    "\n",
    "\n",
    "# Usage\n",
    "num_threads = 4\n",
    "cities = df.to_dict('records')\n",
    "\n",
    "# Measure execution time\n",
    "start_time = perf_counter()\n",
    "distances = queue_based_threading_parallelism((40.7128, -74.0060), cities, num_threads)\n",
    "end_time = perf_counter()\n",
    "execution_time_queue_based = end_time - start_time\n",
    "print(f'Execution time with queue-based threading and {num_threads} threads: {execution_time_queue_based:.5f} s')\n"
   ]
  }
 ],
 "metadata": {
  "kernelspec": {
   "display_name": "env",
   "language": "python",
   "name": "python3"
  },
  "language_info": {
   "codemirror_mode": {
    "name": "ipython",
    "version": 3
   },
   "file_extension": ".py",
   "mimetype": "text/x-python",
   "name": "python",
   "nbconvert_exporter": "python",
   "pygments_lexer": "ipython3",
   "version": "3.11.0"
  }
 },
 "nbformat": 4,
 "nbformat_minor": 2
}
